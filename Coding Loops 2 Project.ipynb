{
 "cells": [
  {
   "cell_type": "code",
   "execution_count": 2,
   "id": "02f01dc1",
   "metadata": {},
   "outputs": [
    {
     "name": "stdout",
     "output_type": "stream",
     "text": [
      "Enter size of list 5\n",
      "Enter element of list 12\n",
      "Enter element of list -7\n",
      "Enter element of list 5\n",
      "Enter element of list 64\n",
      "Enter element of list -14\n",
      "Positive numbers in [12, -7, 5, 64, -14] are: \n",
      "12 5 64 "
     ]
    }
   ],
   "source": [
    "# print positive Numbers in a List\n",
    "  \n",
    "# input of list\n",
    "li=[]\n",
    "n=int(input(\"Enter size of list \"))\n",
    "for i in range(0,n):\n",
    "    e=int(input(\"Enter element of list \"))\n",
    "    li.append(e)\n",
    "\n",
    "print(\"Positive numbers in\",li,\"are: \")\n",
    "  \n",
    "#traversing\n",
    "for i in li:   \n",
    "    # checking condition\n",
    "    if i >= 0:\n",
    "       print(i, end = \" \")"
   ]
  },
  {
   "cell_type": "code",
   "execution_count": 3,
   "id": "26cf02ce",
   "metadata": {},
   "outputs": [
    {
     "name": "stdout",
     "output_type": "stream",
     "text": [
      "Enter size of list 4\n",
      "Enter element of list 12\n",
      "Enter element of list 14\n",
      "Enter element of list -95\n",
      "Enter element of list 3\n",
      "Positive numbers in [12, 14, -95, 3] are: \n",
      "12 14 3 "
     ]
    }
   ],
   "source": [
    "# print positive Numbers in a List\n",
    "  \n",
    "# input of list\n",
    "li=[]\n",
    "n=int(input(\"Enter size of list \"))\n",
    "for i in range(0,n):\n",
    "    e=int(input(\"Enter element of list \"))\n",
    "    li.append(e)\n",
    "\n",
    "print(\"Positive numbers in\",li,\"are: \")\n",
    "  \n",
    "#traversing\n",
    "for i in li:   \n",
    "    # checking condition\n",
    "    if i >= 0:\n",
    "       print(i, end = \" \")"
   ]
  },
  {
   "cell_type": "code",
   "execution_count": null,
   "id": "65703bf2",
   "metadata": {},
   "outputs": [],
   "source": []
  }
 ],
 "metadata": {
  "kernelspec": {
   "display_name": "Python 3 (ipykernel)",
   "language": "python",
   "name": "python3"
  },
  "language_info": {
   "codemirror_mode": {
    "name": "ipython",
    "version": 3
   },
   "file_extension": ".py",
   "mimetype": "text/x-python",
   "name": "python",
   "nbconvert_exporter": "python",
   "pygments_lexer": "ipython3",
   "version": "3.9.12"
  }
 },
 "nbformat": 4,
 "nbformat_minor": 5
}
